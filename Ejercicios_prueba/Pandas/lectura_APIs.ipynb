{
 "cells": [
  {
   "cell_type": "code",
   "execution_count": 3,
   "metadata": {},
   "outputs": [
    {
     "name": "stdout",
     "output_type": "stream",
     "text": [
      "Shape:  (2, 1)\n",
      "          version https://git-lfs.github.com/spec/v1\n",
      "0  oid sha256:910c0741c0b79738e59fc830f085aeb12d7...\n",
      "1                                         size 17774\n"
     ]
    }
   ],
   "source": [
    "# Traer archivo\n",
    "# cd 'Clase 6'\n",
    "#wget -O cars_clus.csv https://s3-api.us-geo.objectstorage.softlayer.net/cf-courses-data/CognitiveClass/ML0101ENv3/labs/cars_clus.csv\n",
    "import pandas as pd\n",
    "# Ponerlo en el entorno de trabajo\n",
    "filename = 'cars_clus.csv'\n",
    "#Lectura del archivo\n",
    "pdf = pd.read_csv(filename)\n",
    "# Traer propiedades como shape\n",
    "print(\"Shape: \", pdf.shape)\n",
    "# Mostrar primeras 5 filas\n",
    "print(pdf.head(5))"
   ]
  }
 ],
 "metadata": {
  "kernelspec": {
   "display_name": "EntornoV",
   "language": "python",
   "name": "python3"
  },
  "language_info": {
   "codemirror_mode": {
    "name": "ipython",
    "version": 3
   },
   "file_extension": ".py",
   "mimetype": "text/x-python",
   "name": "python",
   "nbconvert_exporter": "python",
   "pygments_lexer": "ipython3",
   "version": "3.11.5"
  }
 },
 "nbformat": 4,
 "nbformat_minor": 2
}
