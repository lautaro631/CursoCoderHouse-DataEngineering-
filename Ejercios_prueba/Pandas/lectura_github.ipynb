{
 "cells": [
  {
   "cell_type": "code",
   "execution_count": 1,
   "metadata": {},
   "outputs": [
    {
     "name": "stdout",
     "output_type": "stream",
     "text": [
      "Index(['MCD', 'SBUX', 'GOOG', 'AMZN', 'MSFT', 'JPM', 'BAC', 'C', 'MAR', 'HLT',\n",
      "       'RCL', 'V', 'MA', 'PYPL'],\n",
      "      dtype='object')\n",
      "                 AMZN    MCD  SBUX   GOOG  MSFT\n",
      "formatted_date                                 \n",
      "2016-01-01      587.0  106.3  54.4  743.0  49.9\n",
      "2016-02-01      552.5  100.7  52.1  697.8  46.0\n",
      "2016-03-01      593.6  108.8  53.6  745.0  50.3\n",
      "2016-04-01      659.6  109.5  50.5  693.0  45.5\n",
      "2016-05-01      722.8  105.6  49.3  735.7  48.3\n"
     ]
    }
   ],
   "source": [
    "# Importar librería\n",
    "import pandas as pd\n",
    "# Definir url importante que sea formato raw\n",
    "url = 'https://raw.githubusercontent.com/JJTorresDS/stocks-ds-edu/main/stocks.csv'\n",
    "# Lectura de archivo\n",
    "df = pd.read_csv(url, index_col=0)\n",
    "print(df.columns)\n",
    "# Subset de columnas de interés\n",
    "print(df[['AMZN','MCD','SBUX','GOOG','MSFT']].head(5).round(1))"
   ]
  }
 ],
 "metadata": {
  "kernelspec": {
   "display_name": "EntornoV",
   "language": "python",
   "name": "python3"
  },
  "language_info": {
   "codemirror_mode": {
    "name": "ipython",
    "version": 3
   },
   "file_extension": ".py",
   "mimetype": "text/x-python",
   "name": "python",
   "nbconvert_exporter": "python",
   "pygments_lexer": "ipython3",
   "version": "3.11.5"
  }
 },
 "nbformat": 4,
 "nbformat_minor": 2
}
