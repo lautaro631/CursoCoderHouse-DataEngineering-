{
 "cells": [
  {
   "cell_type": "code",
   "execution_count": 1,
   "metadata": {},
   "outputs": [
    {
     "name": "stdout",
     "output_type": "stream",
     "text": [
      "(800, 12)\n",
      "Index(['#', 'Name', 'Type 1', 'Type 2', 'HP', 'Attack', 'Defense', 'Sp. Atk',\n",
      "       'Sp. Def', 'Speed', 'Generation', 'Legendary'],\n",
      "      dtype='object')\n",
      "                    Name Type 1  HP  Attack  Defense\n",
      "0              Bulbasaur  Grass  45      49       49\n",
      "1                Ivysaur  Grass  60      62       63\n",
      "2               Venusaur  Grass  80      82       83\n",
      "3  VenusaurMega Venusaur  Grass  80     100      123\n",
      "4             Charmander   Fire  39      52       43\n"
     ]
    }
   ],
   "source": [
    "import pandas as pd\n",
    "# Lectura de archivo\n",
    "df= pd.read_csv('pokemon_data.txt',delimiter='\\t')\n",
    "# Mostrar ultimas 5 filas\n",
    "df.tail()\n",
    "print(df.shape)\n",
    "print(df.columns)\n",
    "# Mostrar ciertas columnas\n",
    "print(df[['Name','Type 1','HP','Attack','Defense']].head())"
   ]
  }
 ],
 "metadata": {
  "kernelspec": {
   "display_name": "EntornoV",
   "language": "python",
   "name": "python3"
  },
  "language_info": {
   "codemirror_mode": {
    "name": "ipython",
    "version": 3
   },
   "file_extension": ".py",
   "mimetype": "text/x-python",
   "name": "python",
   "nbconvert_exporter": "python",
   "pygments_lexer": "ipython3",
   "version": "3.11.5"
  }
 },
 "nbformat": 4,
 "nbformat_minor": 2
}
