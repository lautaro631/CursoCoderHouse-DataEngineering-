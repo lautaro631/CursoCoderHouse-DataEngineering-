{
 "cells": [
  {
   "cell_type": "code",
   "execution_count": 1,
   "metadata": {},
   "outputs": [],
   "source": [
    "import requests\n",
    "api_url = 'https://rickandmortyapi.com/api/character'\n",
    "def consumir_api(api_url):\n",
    "    response = requests.get(api_url)\n",
    "    data = []\n",
    "\n",
    "    if response.status_code == 200:\n",
    "        data = response.json().get('results', [])\n",
    "    else:\n",
    "        print(f\"La solicitud a la API falló con el código de estado {response.status_code}\")\n",
    "\n",
    "    return data"
   ]
  },
  {
   "cell_type": "code",
   "execution_count": 2,
   "metadata": {},
   "outputs": [],
   "source": [
    "def con_params():\n",
    "    connection_params = {\n",
    "    \"host\": \"data-engineer-cluster.cyhh5bfevlmn.us-east-1.redshift.amazonaws.com\",\n",
    "    \"database\": \"data-engineer-database\",\n",
    "    \"user\": \"lautarosaucedo631_coderhouse\",\n",
    "    \"password\": \"BoH33Z9wQj\",\n",
    "    \"port\": \"5439\"\n",
    "    }\n",
    "    return connection_params"
   ]
  },
  {
   "cell_type": "code",
   "execution_count": 3,
   "metadata": {},
   "outputs": [],
   "source": [
    "import psycopg2\n",
    "\n",
    "def conectar_a_redshift(connection_params):\n",
    "    try:\n",
    "        conn = psycopg2.connect(**connection_params)\n",
    "        return conn\n",
    "    except Exception as e:\n",
    "        print(\"Error al conectar a Redshift:\")\n",
    "        print(e)\n",
    "        return None"
   ]
  },
  {
   "cell_type": "code",
   "execution_count": 9,
   "metadata": {},
   "outputs": [],
   "source": [
    "\n",
    "def cargar_en_redshift(conn, table_name, data):\n",
    "    \n",
    "    if not conn:\n",
    "        return\n",
    "\n",
    "    cur = conn.cursor()\n",
    "    try:\n",
    "        \n",
    "        # Definir la tabla en la que deseas insertar los datos\n",
    "        table_name = 'prueba'\n",
    "\n",
    "        # Insertar los datos en la tabla\n",
    "        for character in data:\n",
    "            # Ajusta esto según la estructura de tus datos y tu tabla\n",
    "            sql = f\"INSERT INTO {table_name} (name, status, species, gender) VALUES (%s, %s, %s, %s);\"\n",
    "            cur.execute(sql, (character['name'], character['status'], character['species'], character['gender']))\n",
    "\n",
    "        conn.commit()\n",
    "        print(f\"Datos de personajes de Rick and Morty cargados con éxito en la tabla '{table_name}' en Redshift.\")\n",
    "    except Exception as e:\n",
    "        print(f\"Error al cargar datos en Redshift: {str(e)}\")\n",
    "    finally:\n",
    "        if conn:\n",
    "            cur.close()\n",
    "            conn.close()"
   ]
  },
  {
   "cell_type": "code",
   "execution_count": null,
   "metadata": {},
   "outputs": [],
   "source": [
    "import psycopg2\n",
    "\n",
    "url=\"data-engineer-cluster.cyhh5bfevlmn.us-east-1.redshift.amazonaws.com\"\n",
    "data_base=\"data-engineer-database\"\n",
    "user=\"lautarosaucedo631_coderhouse\"\n",
    "pwd= \"BoH33Z9wQj\"\n",
    "\n",
    "try:\n",
    "    conn = psycopg2.connect(\n",
    "        host='data-engineer-cluster.cyhh5bfevlmn.us-east-1.redshift.amazonaws.com',\n",
    "        dbname=data_base,\n",
    "        user=user,\n",
    "        password=pwd,\n",
    "        port='5439'\n",
    "    )\n",
    "    print(\"Connected to Redshift successfully!\")\n",
    "    \n",
    "except Exception as e:\n",
    "    print(\"Unable to connect to Redshift.\")\n",
    "    print(e)"
   ]
  }
 ],
 "metadata": {
  "kernelspec": {
   "display_name": "EntornoV",
   "language": "python",
   "name": "python3"
  },
  "language_info": {
   "codemirror_mode": {
    "name": "ipython",
    "version": 3
   },
   "file_extension": ".py",
   "mimetype": "text/x-python",
   "name": "python",
   "nbconvert_exporter": "python",
   "pygments_lexer": "ipython3",
   "version": "3.11.5"
  }
 },
 "nbformat": 4,
 "nbformat_minor": 2
}
